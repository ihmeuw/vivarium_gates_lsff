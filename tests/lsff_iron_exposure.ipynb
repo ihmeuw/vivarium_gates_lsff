{
 "cells": [
  {
   "cell_type": "code",
   "execution_count": 1,
   "id": "caring-client",
   "metadata": {},
   "outputs": [
    {
     "data": {
      "application/javascript": [
       "(function(on) {\n",
       "const e=$( \"<a>Setup failed</a>\" );\n",
       "const ns=\"js_jupyter_suppress_warnings\";\n",
       "var cssrules=$(\"#\"+ns);\n",
       "if(!cssrules.length) cssrules = $(\"<style id='\"+ns+\"' type='text/css'>div.output_stderr { } </style>\").appendTo(\"head\");\n",
       "e.click(function() {\n",
       "    var s='Showing';  \n",
       "    cssrules.empty()\n",
       "    if(on) {\n",
       "        s='Hiding';\n",
       "        cssrules.append(\"div.output_stderr, div[data-mime-type*='.stderr'] { display:none; }\");\n",
       "    }\n",
       "    e.text(s+' warnings (click to toggle)');\n",
       "    on=!on;\n",
       "}).click();\n",
       "$(element).append(e);\n",
       "})(true);\n"
      ],
      "text/plain": [
       "<IPython.core.display.Javascript object>"
      ]
     },
     "metadata": {},
     "output_type": "display_data"
    }
   ],
   "source": [
    "%%javascript\n",
    "(function(on) {\n",
    "const e=$( \"<a>Setup failed</a>\" );\n",
    "const ns=\"js_jupyter_suppress_warnings\";\n",
    "var cssrules=$(\"#\"+ns);\n",
    "if(!cssrules.length) cssrules = $(\"<style id='\"+ns+\"' type='text/css'>div.output_stderr { } </style>\").appendTo(\"head\");\n",
    "e.click(function() {\n",
    "    var s='Showing';  \n",
    "    cssrules.empty()\n",
    "    if(on) {\n",
    "        s='Hiding';\n",
    "        cssrules.append(\"div.output_stderr, div[data-mime-type*='.stderr'] { display:none; }\");\n",
    "    }\n",
    "    e.text(s+' warnings (click to toggle)');\n",
    "    on=!on;\n",
    "}).click();\n",
    "$(element).append(e);\n",
    "})(true);"
   ]
  },
  {
   "cell_type": "markdown",
   "id": "disabled-knife",
   "metadata": {},
   "source": [
    "# Fix python anemia distribution code\n",
    "\n",
    "### This notebook was created to identify and correct a discrepancy between an ensemble distribution sampled via R code and what should have been the same distribution implemented in python code.\n",
    "\n",
    "### The ensemble distribution is composed of both gamma and mirrored_gumbel distributions. The gamma portion of the distributions was identical in the 2017 code. However, the gumbel distributions did not match. The 2017 gumbel code is shown below (_mirrored_gumbel_ppf_2017) and the new implementation is directly above.\n",
    "\n",
    "### Using the new python code both the gamma and gumbel distributions are the same as their R counterparts."
   ]
  },
  {
   "cell_type": "code",
   "execution_count": 2,
   "id": "transparent-scott",
   "metadata": {},
   "outputs": [],
   "source": [
    "%load_ext rpy2.ipython"
   ]
  },
  {
   "cell_type": "code",
   "execution_count": 3,
   "id": "passive-liberia",
   "metadata": {},
   "outputs": [],
   "source": [
    "import numpy as np\n",
    "import pandas as pd\n",
    "import matplotlib.pyplot as plt\n",
    "import seaborn as sns\n",
    "import scipy\n",
    "from scipy import stats"
   ]
  },
  {
   "cell_type": "code",
   "execution_count": 4,
   "id": "bearing-jones",
   "metadata": {},
   "outputs": [],
   "source": [
    "def _gamma_ppf(propensity, mean, sd):\n",
    "    shape = (mean / sd)**2\n",
    "    scale = sd**2 / mean\n",
    "    return scipy.stats.gamma(a=shape, scale=scale).ppf(propensity)\n",
    "\n",
    "def _mirrored_gumbel_ppf(propensity, mean, sd):\n",
    "    x_max = 220 # data_values.HEMOGLOBIN_DISTRIBUTION.EXPOSURE_MAX\n",
    "    _alpha = x_max - mean - (sd * np.euler_gamma * np.sqrt(6) / np.pi)\n",
    "    scale = sd * np.sqrt(6) / np.pi\n",
    "    tmp = _alpha + (scale*np.euler_gamma)\n",
    "    alpha = _alpha + x_max - (2*tmp)\n",
    "    return scipy.stats.gumbel_r(alpha, scale=scale).ppf(propensity)\n",
    "\n",
    "def _mirrored_gumbel_ppf_2017(propensity, mean, sd):\n",
    "    x_max = 220 # data_values.HEMOGLOBIN_DISTRIBUTION.EXPOSURE_MAX\n",
    "    alpha = x_max - mean - (sd * np.euler_gamma * np.sqrt(6) / np.pi)\n",
    "    scale = sd * np.sqrt(6) / np.pi\n",
    "    return x_max - scipy.stats.gumbel_r(alpha, scale=scale).ppf(1 - propensity)\n",
    "\n",
    "def viv_calc_iron(propensity, exposure_parameters):\n",
    "    #propensity = clip(propensity)\n",
    "    exposure_data = exposure_parameters\n",
    "    mean = exposure_data['mean']\n",
    "    sd = exposure_data['sd']\n",
    "    exposure = (0.4 * _gamma_ppf(propensity, mean, sd)\n",
    "                + 0.6 * _mirrored_gumbel_ppf(propensity, mean, sd))\n",
    "    return pd.Series(exposure, index=propensity.index, name='value')\n",
    "\n",
    "def viv_calc_iron_2017(propensity, exposure_parameters):\n",
    "    #propensity = clip(propensity)\n",
    "    exposure_data = exposure_parameters\n",
    "    mean = exposure_data['mean']\n",
    "    sd = exposure_data['sd']\n",
    "    exposure = (0.4 * _gamma_ppf(propensity, mean, sd)\n",
    "                + 0.6 * _mirrored_gumbel_ppf_2017(propensity, mean, sd))\n",
    "    return pd.Series(exposure, index=propensity.index, name='value')\n"
   ]
  },
  {
   "cell_type": "code",
   "execution_count": 5,
   "id": "bottom-validity",
   "metadata": {},
   "outputs": [
    {
     "data": {
      "text/plain": [
       "(93.24920188681457, 11.69545201850514)"
      ]
     },
     "execution_count": 5,
     "metadata": {},
     "output_type": "execute_result"
    }
   ],
   "source": [
    "def _mirrored_gumbel_test(mean, sd):\n",
    "    x_max = 220 # data_values.HEMOGLOBIN_DISTRIBUTION.EXPOSURE_MAX\n",
    "    alpha = x_max - mean - (sd * np.euler_gamma * np.sqrt(6) / np.pi)\n",
    "    scale = sd * np.sqrt(6) / np.pi\n",
    "    return alpha, scale\n",
    "\n",
    "_mirrored_gumbel_test(120, 15)"
   ]
  },
  {
   "cell_type": "code",
   "execution_count": 6,
   "id": "narrow-vienna",
   "metadata": {},
   "outputs": [],
   "source": [
    "%%R\n",
    "set.seed(43)\n",
    "\n",
    "# import standard R functions for the gamma distributions (pgamma and rgamma)\n",
    "pacman::p_load(data.table,actuar)\n",
    "\n",
    "# define constants\n",
    "XMAX = 220\n",
    "EULERS_CONSTANT = 0.57721566490153286060651209008240243104215933593992\n",
    "w = c(0.4,0.6)\n",
    "\n",
    "# function to calculate gamma distribution parameters from mean and variance\n",
    "gamma_mv2p = function(mn, vr){\n",
    "  list(shape = mn^2/vr,rate = mn/vr)\n",
    "}\n",
    "\n",
    "# function to calculate mirror gumbel distribution parameters from mean and variance\n",
    "mgumbel_mv2p = function(mn, vr){\n",
    "  list(\n",
    "    alpha = XMAX - mn - EULERS_CONSTANT*sqrt(vr)*sqrt(6)/pi,\n",
    "    scale = sqrt(vr)*sqrt(6)/pi)\n",
    "}\n",
    "\n",
    "# function to randomly sample n times from mirror gumbel distribution\n",
    "rmgumbel = function(n, alpha, scale){\n",
    "  mn = alpha + scale*EULERS_CONSTANT\n",
    "  rgumbel(n, alpha+XMAX-(2*mn), scale)\n",
    "}\n",
    "\n",
    "# function to sample from ensemble hemoglobin distribution using functions defined above\n",
    "  # n = number of samples to take\n",
    "  # mn = mean hemoglobin concentration\n",
    "  # vr = hemoglobin distribution variance (standard deviation squared)\n",
    "  # w = list of ensemble distribution weights c(gamma_weight, mirror_gumbel_weight)\n",
    "sample_from_hemoglobin_distribution <- function(n, mn, vr, w){\n",
    "\n",
    "  ##parameters\n",
    "  params_gamma = gamma_mv2p(mn, vr)\n",
    "  params_mgumbel = mgumbel_mv2p(mn, vr)\n",
    "\n",
    "  ##weighting\n",
    "  sample_list = sum(\n",
    "    w[1] * rgamma(n, params_gamma$shape, params_gamma$rate),\n",
    "    w[2] * rmgumbel(n, params_mgumbel$alpha, params_mgumbel$scale)\n",
    "  )\n",
    "  sample_list\n",
    "}\n"
   ]
  },
  {
   "cell_type": "code",
   "execution_count": 7,
   "id": "beautiful-miller",
   "metadata": {},
   "outputs": [
    {
     "data": {
      "text/plain": [
       "[1] 113.2492\n"
      ]
     },
     "metadata": {},
     "output_type": "display_data"
    }
   ],
   "source": [
    "%%R\n",
    "# alpha = 93.249202 scale = 11.695452\"\n",
    "mn = 93.249202 + 11.695452*EULERS_CONSTANT\n",
    "arg = 93.249202+220-(2*mn)\n",
    "arg"
   ]
  },
  {
   "cell_type": "code",
   "execution_count": 8,
   "id": "gross-retro",
   "metadata": {},
   "outputs": [
    {
     "data": {
      "text/plain": [
       "[1] \"shape = 64.000000 rate = 0.533333\"\n",
       "[1] \"rgamma = 120.324350\"\n",
       "[1] \"mgparams: alpha = 93.249202 scale = 11.695452\"\n",
       "[1] \"mirror_gumbel (above params) = 131.236336\"\n"
      ]
     },
     "metadata": {},
     "output_type": "display_data"
    }
   ],
   "source": [
    "%%R\n",
    "# Look at what the individual equations produce\n",
    "\n",
    "gamma_params = gamma_mv2p(120, 225)\n",
    "print(sprintf(\"shape = %f rate = %f\", gamma_params$shape, gamma_params$rate))\n",
    "\n",
    "print(sprintf(\"rgamma = %f\", mean(rgamma(1000, shape=64, rate=0.5333333))))\n",
    "\n",
    "mg_params = mgumbel_mv2p(120, 225)\n",
    "print(sprintf(\"mgparams: alpha = %f scale = %f\", mg_params$alpha, mg_params$scale))\n",
    "print(sprintf(\"mirror_gumbel (above params) = %f\", rmgumbel(1, mg_params$alpha, mg_params$scale)))"
   ]
  },
  {
   "cell_type": "code",
   "execution_count": 9,
   "id": "separated-transportation",
   "metadata": {},
   "outputs": [
    {
     "name": "stdout",
     "output_type": "stream",
     "text": [
      "alpha = 93.24920188681457 scale = 11.69545201850514\n"
     ]
    }
   ],
   "source": [
    "#alpha = x_max - mean - (sd * np.euler_gamma * np.sqrt(6) / np.pi)\n",
    "alpha = 220 - 120 - (15 * np.euler_gamma * np.sqrt(6) / np.pi)\n",
    "\n",
    "#scale = sd * np.sqrt(6) / np.pi\n",
    "scale = 15 * np.sqrt(6) / np.pi\n",
    "\n",
    "print(f'alpha = {alpha} scale = {scale}')"
   ]
  },
  {
   "cell_type": "code",
   "execution_count": 10,
   "id": "residential-pillow",
   "metadata": {},
   "outputs": [],
   "source": [
    "q = np.linspace(0.1, 0.9, 1000)"
   ]
  },
  {
   "cell_type": "code",
   "execution_count": 11,
   "id": "increasing-protein",
   "metadata": {},
   "outputs": [
    {
     "data": {
      "text/plain": [
       "[<matplotlib.lines.Line2D at 0x7f96bf6942e8>]"
      ]
     },
     "execution_count": 11,
     "metadata": {},
     "output_type": "execute_result"
    },
    {
     "data": {
      "image/png": "[encoded data removed]",
      "text/plain": [
       "<Figure size 432x288 with 1 Axes>"
      ]
     },
     "metadata": {
      "needs_background": "light"
     },
     "output_type": "display_data"
    }
   ],
   "source": [
    "import matplotlib.pyplot as plt\n",
    "x_python = scipy.stats.gumbel_r(loc=100, scale=10).ppf(q)\n",
    "plt.plot(x_python, q)"
   ]
  },
  {
   "cell_type": "markdown",
   "id": "bearing-journalism",
   "metadata": {},
   "source": [
    "# This shows that identically parameterized functions:\n",
    "\n",
    " - python (scipy.stats.gumbel_r)\n",
    " \n",
    " - R (qgumbel) \n",
    "  \n",
    "# produce identical results."
   ]
  },
  {
   "cell_type": "code",
   "execution_count": 12,
   "id": "interim-david",
   "metadata": {},
   "outputs": [
    {
     "name": "stderr",
     "output_type": "stream",
     "text": [
      "/home/kjells/miniconda3/envs/run_r/lib/python3.6/site-packages/rpy2/robjects/pandas2ri.py:191: FutureWarning: from_items is deprecated. Please use DataFrame.from_dict(dict(items), ...) instead. DataFrame.from_dict(OrderedDict(items)) may be used to preserve the key order.\n",
      "  res = PandasDataFrame.from_items(items)\n"
     ]
    }
   ],
   "source": [
    "%%R -i q -o rdf_gum\n",
    "gvals = qgumbel(q, 100, 10)\n",
    "rdf_gum <- data.frame(gvalues = gvals)"
   ]
  },
  {
   "cell_type": "code",
   "execution_count": 13,
   "id": "unsigned-multimedia",
   "metadata": {},
   "outputs": [
    {
     "data": {
      "text/plain": [
       "[<matplotlib.lines.Line2D at 0x7f96bf584710>]"
      ]
     },
     "execution_count": 13,
     "metadata": {},
     "output_type": "execute_result"
    },
    {
     "data": {
      "image/png": "[encoded data removed]",
      "text/plain": [
       "<Figure size 432x288 with 1 Axes>"
      ]
     },
     "metadata": {
      "needs_background": "light"
     },
     "output_type": "display_data"
    }
   ],
   "source": [
    "x_r = rdf_gum.gvalues.values\n",
    "plt.plot(x_python - x_r)"
   ]
  },
  {
   "cell_type": "code",
   "execution_count": 14,
   "id": "confidential-sample",
   "metadata": {},
   "outputs": [
    {
     "data": {
      "text/plain": [
       "array([0.11505457, 0.60906654, 0.13339096, 0.24058962, 0.32713906,\n",
       "       0.85913749, 0.66609021, 0.54116221, 0.02901382, 0.7337483 ,\n",
       "       0.39495002, 0.80204712, 0.25442113, 0.05688494, 0.86664864,\n",
       "       0.221029  , 0.40498945, 0.31609647, 0.0766627 , 0.84322469])"
      ]
     },
     "execution_count": 14,
     "metadata": {},
     "output_type": "execute_result"
    }
   ],
   "source": [
    "np.random.seed(43)\n",
    "prop = np.random.uniform(size=10000)\n",
    "prop[:20]"
   ]
  },
  {
   "cell_type": "code",
   "execution_count": 15,
   "id": "lesser-gospel",
   "metadata": {},
   "outputs": [
    {
     "name": "stderr",
     "output_type": "stream",
     "text": [
      "/home/kjells/miniconda3/envs/run_r/lib/python3.6/site-packages/rpy2/robjects/pandas2ri.py:191: FutureWarning: from_items is deprecated. Please use DataFrame.from_dict(dict(items), ...) instead. DataFrame.from_dict(OrderedDict(items)) may be used to preserve the key order.\n",
      "  res = PandasDataFrame.from_items(items)\n"
     ]
    }
   ],
   "source": [
    "%%R -i prop -o rdf_gum\n",
    "gvals = qgumbel(prop, 113.2492, 11.695452)\n",
    "rdf_gum <- data.frame(gvalues = gvals)"
   ]
  },
  {
   "cell_type": "code",
   "execution_count": 16,
   "id": "developmental-client",
   "metadata": {},
   "outputs": [],
   "source": [
    "%%R -i prop -o rdf_gamma\n",
    "vals = qgamma(prop, shape=64, rate=0.5333333)\n",
    "rdf_gamma <- data.frame(values = vals)"
   ]
  },
  {
   "cell_type": "code",
   "execution_count": 17,
   "id": "complete-tattoo",
   "metadata": {},
   "outputs": [],
   "source": [
    "gum_vals = pd.Series(_mirrored_gumbel_ppf(prop, 120, 15))\n",
    "gum_vals_2017 = pd.Series(_mirrored_gumbel_ppf_2017(prop, 120, 15))"
   ]
  },
  {
   "cell_type": "code",
   "execution_count": 18,
   "id": "fluid-rating",
   "metadata": {},
   "outputs": [],
   "source": [
    "gamma_vals = pd.Series(_gamma_ppf(prop, 120, 15))"
   ]
  },
  {
   "cell_type": "code",
   "execution_count": 19,
   "id": "moral-negative",
   "metadata": {},
   "outputs": [
    {
     "name": "stdout",
     "output_type": "stream",
     "text": [
      "R gumbel overview:\n",
      "            gvalues\n",
      "count  10000.000000\n",
      "mean     120.293465\n",
      "std       15.061654\n",
      "min       86.878132\n",
      "25%      109.714645\n",
      "50%      117.890049\n",
      "75%      128.282924\n",
      "max      243.116532\n",
      "\n",
      "Python gumbel overview:\n",
      "count    10000.000000\n",
      "mean       120.293467\n",
      "std         15.061654\n",
      "min         86.878134\n",
      "25%        109.714647\n",
      "50%        117.890051\n",
      "75%        128.282926\n",
      "max        243.116534\n",
      "dtype: float64\n",
      "\n",
      "Python gumbel 2017 overview (notice the almost identical mean but otherwise very different values):\n",
      "count    10000.000000\n",
      "mean       120.252235\n",
      "std         15.120974\n",
      "min         15.252409\n",
      "25%        112.633956\n",
      "50%        122.815316\n",
      "75%        130.856126\n",
      "max        154.905424\n",
      "dtype: float64\n"
     ]
    }
   ],
   "source": [
    "print(f'R gumbel overview:\\n{rdf_gum.describe()}\\n')\n",
    "print(f'Python gumbel overview:\\n{gum_vals.describe()}\\n')\n",
    "print(f'Python gumbel 2017 overview (notice the almost identical mean but otherwise very different values):\\n{gum_vals_2017.describe()}')"
   ]
  },
  {
   "cell_type": "code",
   "execution_count": 20,
   "id": "southwest-complement",
   "metadata": {},
   "outputs": [
    {
     "data": {
      "text/plain": [
       "<seaborn.axisgrid.FacetGrid at 0x7f96bf5413c8>"
      ]
     },
     "execution_count": 20,
     "metadata": {},
     "output_type": "execute_result"
    },
    {
     "data": {
      "image/png": "[encoded data removed]",
      "text/plain": [
       "<Figure size 435x360 with 1 Axes>"
      ]
     },
     "metadata": {
      "needs_background": "light"
     },
     "output_type": "display_data"
    }
   ],
   "source": [
    "sns.displot(rdf_gum)"
   ]
  },
  {
   "cell_type": "code",
   "execution_count": 21,
   "id": "superior-terrain",
   "metadata": {},
   "outputs": [
    {
     "data": {
      "text/plain": [
       "<seaborn.axisgrid.FacetGrid at 0x7f96bf422cc0>"
      ]
     },
     "execution_count": 21,
     "metadata": {},
     "output_type": "execute_result"
    },
    {
     "data": {
      "image/png": "[encoded data removed]",
      "text/plain": [
       "<Figure size 360x360 with 1 Axes>"
      ]
     },
     "metadata": {
      "needs_background": "light"
     },
     "output_type": "display_data"
    }
   ],
   "source": [
    "sns.displot(gum_vals)"
   ]
  },
  {
   "cell_type": "code",
   "execution_count": 22,
   "id": "pressed-sympathy",
   "metadata": {},
   "outputs": [
    {
     "name": "stdout",
     "output_type": "stream",
     "text": [
      "Stats from R gamma =              values\n",
      "count  10000.000000\n",
      "mean     120.303681\n",
      "std       15.050801\n",
      "min       71.189667\n",
      "25%      109.946079\n",
      "50%      119.767773\n",
      "75%      130.170979\n",
      "max      193.096345\n",
      "Stats from scipy gamma = count    10000.000000\n",
      "mean       120.303673\n",
      "std         15.050800\n",
      "min         71.189662\n",
      "25%        109.946072\n",
      "50%        119.767765\n",
      "75%        130.170971\n",
      "max        193.096333\n",
      "dtype: float64\n"
     ]
    }
   ],
   "source": [
    "print(f'Stats from R gamma = {rdf_gamma.describe()}\\nStats from scipy gamma = {gamma_vals.describe()}')"
   ]
  },
  {
   "cell_type": "code",
   "execution_count": 23,
   "id": "contained-pixel",
   "metadata": {},
   "outputs": [
    {
     "data": {
      "text/plain": [
       "<seaborn.axisgrid.FacetGrid at 0x7f96bf694f60>"
      ]
     },
     "execution_count": 23,
     "metadata": {},
     "output_type": "execute_result"
    },
    {
     "data": {
      "image/png": "[encoded data removed]",
      "text/plain": [
       "<Figure size 428.625x360 with 1 Axes>"
      ]
     },
     "metadata": {
      "needs_background": "light"
     },
     "output_type": "display_data"
    }
   ],
   "source": [
    "sns.displot(rdf_gamma)"
   ]
  },
  {
   "cell_type": "code",
   "execution_count": 24,
   "id": "ordered-ownership",
   "metadata": {},
   "outputs": [
    {
     "data": {
      "text/plain": [
       "<seaborn.axisgrid.FacetGrid at 0x7f96bf4d1d68>"
      ]
     },
     "execution_count": 24,
     "metadata": {},
     "output_type": "execute_result"
    },
    {
     "data": {
      "image/png": "[encoded data removed]",
      "text/plain": [
       "<Figure size 360x360 with 1 Axes>"
      ]
     },
     "metadata": {
      "needs_background": "light"
     },
     "output_type": "display_data"
    }
   ],
   "source": [
    "sns.displot(gamma_vals)"
   ]
  }
 ],
 "metadata": {
  "kernelspec": {
   "display_name": "run_r",
   "language": "python",
   "name": "run_r"
  },
  "language_info": {
   "codemirror_mode": {
    "name": "ipython",
    "version": 3
   },
   "file_extension": ".py",
   "mimetype": "text/x-python",
   "name": "python",
   "nbconvert_exporter": "python",
   "pygments_lexer": "ipython3",
   "version": "3.6.10"
  }
 },
 "nbformat": 4,
 "nbformat_minor": 5
}
